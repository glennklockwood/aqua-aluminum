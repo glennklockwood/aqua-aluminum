{
 "cells": [
  {
   "cell_type": "markdown",
   "metadata": {},
   "source": [
    "# Plot Stream Triad Bandwidths\n",
    "\n",
    "Generates a plot of the stream triad bandwidths for Raspberry Pi.  Just for fun.\n",
    "\n",
    "Maybe someday these can be embedded into the web"
   ]
  },
  {
   "cell_type": "code",
   "execution_count": null,
   "metadata": {},
   "outputs": [],
   "source": [
    "%matplotlib inline"
   ]
  },
  {
   "cell_type": "code",
   "execution_count": null,
   "metadata": {},
   "outputs": [],
   "source": [
    "import json\n",
    "import math\n",
    "\n",
    "import matplotlib\n",
    "import matplotlib.pyplot\n",
    "import pandas"
   ]
  },
  {
   "cell_type": "code",
   "execution_count": null,
   "metadata": {},
   "outputs": [],
   "source": [
    "result = {}\n",
    "d = json.load(open('../content/data/benchmarks/arm_processors.json', 'r'))\n",
    "for val in d:\n",
    "    if 'stream_triad_mbs' in val:\n",
    "        # key = val['model'].lower().replace(' ', '_')\n",
    "        key = val['model']\n",
    "        ncore = val['clock'].split('&', 1)[0] if '&' in val['clock'] else \"1\"\n",
    "        ncore = int(ncore)\n",
    "        mbs = float(val['stream_triad_mbs'])\n",
    "        \n",
    "        if ncore not in result:\n",
    "            result[ncore] = {}\n",
    "        result[ncore][key] = mbs"
   ]
  },
  {
   "cell_type": "code",
   "execution_count": null,
   "metadata": {},
   "outputs": [],
   "source": [
    "df = pandas.DataFrame.from_dict(result, orient='index')\n",
    "\n",
    "df"
   ]
  },
  {
   "cell_type": "code",
   "execution_count": null,
   "metadata": {},
   "outputs": [],
   "source": [
    "fig, ax = matplotlib.pyplot.subplots()\n",
    "\n",
    "df.sort_index().plot.bar(ax=ax, width=0.9, edgecolor='black')\n",
    "ax.set_ylabel(\"Stream Triad\\nBandwidth (MiB/s)\")\n",
    "ax.set_xlabel(\"# Threads\")\n",
    "#ax.set_title(\"Stream Triad Results\")\n",
    "ax.yaxis.grid()\n",
    "ax.set_axisbelow(True)\n",
    "\n",
    "ymax = ax.get_ylim()[-1]\n",
    "ystep = int(math.log(ymax, 10))\n",
    "ystep = int(ystep / 3 * 10)\n",
    "ystep = 2 ** ystep\n",
    "\n",
    "yticks = []\n",
    "while not yticks or yticks[-1] < ymax:\n",
    "    yticks.append(len(yticks) * ystep)\n",
    "\n",
    "ax.set_ylim(yticks[0], yticks[-1])\n",
    "ax.set_yticks(yticks)\n",
    "\n",
    "ax.legend(ncol=2, bbox_to_anchor=(0, 1.01, 1, 0), loc='lower left', mode='expand', borderaxespad=0, fontsize='small')"
   ]
  },
  {
   "cell_type": "code",
   "execution_count": null,
   "metadata": {},
   "outputs": [],
   "source": []
  }
 ],
 "metadata": {
  "kernelspec": {
   "display_name": "Python 3",
   "language": "python",
   "name": "python3"
  },
  "language_info": {
   "codemirror_mode": {
    "name": "ipython",
    "version": 3
   },
   "file_extension": ".py",
   "mimetype": "text/x-python",
   "name": "python",
   "nbconvert_exporter": "python",
   "pygments_lexer": "ipython3",
   "version": "3.7.3"
  }
 },
 "nbformat": 4,
 "nbformat_minor": 4
}
