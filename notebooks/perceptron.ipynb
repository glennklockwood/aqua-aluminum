{
 "cells": [
  {
   "cell_type": "markdown",
   "metadata": {},
   "source": [
    "# Implementing a Neural Network"
   ]
  },
  {
   "cell_type": "code",
   "execution_count": 1,
   "metadata": {},
   "outputs": [],
   "source": [
    "%matplotlib inline"
   ]
  },
  {
   "cell_type": "code",
   "execution_count": 2,
   "metadata": {},
   "outputs": [],
   "source": [
    "import numpy\n",
    "import pandas\n",
    "import matplotlib"
   ]
  },
  {
   "cell_type": "markdown",
   "metadata": {},
   "source": [
    "## Introduction\n",
    "\n",
    "This walk-through of creating a simple neural network to predict outputs given an input is derived from [Neural Networks from Scratch with Python Code and Math in Detail](https://medium.com/towards-artificial-intelligence/building-neural-networks-from-scratch-with-python-code-and-math-in-detail-i-536fae5d7bbf).  I found that walk-through a bit confusing, so I made this notebook to help me walk through each step and understand it.  If you're viewing this in webpage form, you can find the [actual Jupyter Notebook in GitHub](https://github.com/glennklockwood/limelead/blob/master/notebooks/perceptron.ipynb).\n",
    "\n",
    "Here, we build an extremely simple neural network based on a linear model (a [perceptron](https://en.wikipedia.org/wiki/Perceptron)) that classifies an input as one thing or another based on a couple of input parameters.\n",
    "\n",
    "Specifically, we're going to create a model of a simple OR gate with two inputs and one output.  OR gates have the following behavior:\n",
    "\n",
    "1. If both inputs are 0 (off), the output is 0 (off)\n",
    "2. If both inputs are 1 (on), the output is 1 (on)\n",
    "3. If either input is 1 (on), the output is still 1 (on)\n",
    "\n",
    "And we want to create a model, $f(x)$, that takes two inputs ($x$) and returns either a 0 or 1 based on the value of those inputs.\n",
    "\n",
    "Let's first build a set of observations that capture this behavior as if we were experimenting with an OR gate ourselves:"
   ]
  },
  {
   "cell_type": "code",
   "execution_count": 3,
   "metadata": {},
   "outputs": [
    {
     "name": "stdout",
     "output_type": "stream",
     "text": [
      "Inputs and true outputs (truth table) are:\n",
      "               input 1  input 2  true output\n",
      "observation #                               \n",
      "0                    0        0            0\n",
      "1                    0        1            1\n",
      "2                    1        0            1\n",
      "3                    1        1            1\n"
     ]
    }
   ],
   "source": [
    "inputs = pandas.DataFrame(\n",
    "    [[0, 0],\n",
    "    [0, 1],\n",
    "    [1, 0],\n",
    "    [1, 1]],\n",
    "    columns=[\"input 1\", \"input 2\"])\n",
    "inputs.index.name = \"observation #\"\n",
    "\n",
    "ground_truth = pandas.Series([0, 1, 1, 1], name=\"true output\", index=inputs.index)\n",
    "\n",
    "print(\"Inputs and true outputs (truth table) are:\")\n",
    "print(pandas.concat((inputs, ground_truth), axis=1))"
   ]
  },
  {
   "cell_type": "markdown",
   "metadata": {},
   "source": [
    "## Defining our model\n",
    "\n",
    "The model we're using to predict our output values, $f(x, w)$, is based on a linear model $y(x)$ at its core:\n",
    "\n",
    "$ y = x \\cdot w + b $\n",
    "\n",
    "\n",
    "where\n",
    "\n",
    "- $x$ are our observed inputs (the _independent_ variables)\n",
    "- $w$ are empirical \"weight\" parameters\n",
    "- $b$ is an empirical \"bias\" parameter\n",
    "\n",
    "The magic of this model is in figuring out what values for our empirical parameters, $w$ and $b$, result in the model producing our true outputs for each set of given inputs.\n",
    "\n",
    "Before we do that though, we have to shove this $y(x)$ through an \"activation function\" $A(x)$ to make so the model can only return values between 0 (off) and 1 (on) though.  We arbitrarily choose a sigmoid function to accomplish this:\n",
    "\n",
    "$ A(x) = \\frac{1}{1 + e^{-x}} $\n",
    "\n",
    "Which can be defined in Python as follows:"
   ]
  },
  {
   "cell_type": "code",
   "execution_count": 4,
   "metadata": {},
   "outputs": [
    {
     "data": {
      "image/png": "[encoded data removed]",
      "text/plain": [
       "<matplotlib.figure.Figure at 0x7f90d31828>"
      ]
     },
     "metadata": {
      "needs_background": "light"
     },
     "output_type": "display_data"
    }
   ],
   "source": [
    "def sigmoid(x):\n",
    "    \"\"\"Activation function\n",
    "    \"\"\"\n",
    "    return 1.0 / (1.0 + numpy.exp(-x))\n",
    "\n",
    "def d_sigmoid(x):\n",
    "    \"\"\"First derivative of activation function\n",
    "    \"\"\"\n",
    "    y = sigmoid(x)\n",
    "    return y * (1.0 - y)\n",
    "\n",
    "matplotlib.pyplot.plot(numpy.arange(-10, 10, 0.1), sigmoid(numpy.arange(-10, 10, 0.1)), label=\"sigmoid\")\n",
    "matplotlib.pyplot.grid()\n",
    "matplotlib.pyplot.title(\"Sigmoid activation function\")\n",
    "pass"
   ]
  },
  {
   "cell_type": "markdown",
   "metadata": {},
   "source": [
    "Because we're nesting our linear function in an activation function, $f(x, w)$ looks pretty gnarly if you expand it out:\n",
    "\n",
    "$ f(x, w) = A(y(x)) = A(x \\cdot w + b) = \\frac{1}{1 + e^{-x \\cdot w - b}} $\n",
    "\n",
    "But I like to really think of our model as $ y = x \\cdot w + b $ with some special sauce splashed on top to make sure our output values aren't unbounded.  If we didn't have an activation function, our linear model $y(x)$ would predict values that could go to infinity which\n",
    "\n",
    "1. doesn't represent the reality of the true outputs (we know that they can only vary from 0 to 1)\n",
    "2. will cause gradient descent to not _converge_ (approach the right answer) very well\n",
    "\n",
    "You can confirm this yourself by defining `sigmoid(x)` to just `return x` and `d_sigmoid(x)` to return `1`.\n",
    "\n",
    "Now that we have a model in mind, we have to figure out how to _parameterize_ to get values for our weights "
   ]
  },
  {
   "cell_type": "markdown",
   "metadata": {},
   "source": [
    "## Setting up gradient descent\n",
    "\n",
    "We have a choice of model (a linear one wrapped in an activation function), so now we need to figure out what values of our empirical parameters $w$ and $b$ should be to make the model produce outputs that most closely track reality.  To do this, we use [gradient descent](https://en.wikipedia.org/wiki/Gradient_descent).  Its formal definition is\n",
    "\n",
    "$ w_{t+1} = w_t - R \\cdot \\frac{d}{dw}E(x, w_t) $\n",
    "\n",
    "where $R$ is the \"learning rate,\" an empirical _hyperparameter_.  Whereas $w$ and $b$ are parameters that relate inputs to outputs, $R$ is a hyperparameter because it doesn't relate to what's being modeled as much as it relates to the model itself.\n",
    "\n",
    "$E(x, w)$ is a \"loss function\" that describes how far away our empirical model $f(x, w)$ is from ground truth values $ f_0 $, and the goal of this whole exercise with gradient descent is to minimize the loss, or make the difference between our model and reality as small as possible.\n",
    "\n",
    "Our first order of business to actually calculate some numbers and evolve our model is to define some starting values of our empirical parameters: weights, bias, and learning rate.  Since our inputs $x$ are actually an array, $w$ must also be an array with one value for each of our input variables in $x$:"
   ]
  },
  {
   "cell_type": "code",
   "execution_count": 5,
   "metadata": {},
   "outputs": [
    {
     "name": "stdout",
     "output_type": "stream",
     "text": [
      "Setting initial weights to random values.\n",
      "           weight\n",
      "input 1  0.417022\n",
      "input 2  0.720324\n"
     ]
    }
   ],
   "source": [
    "numpy.random.seed(seed=1)\n",
    "print(\"Setting initial weights to random values.\")\n",
    "weights = numpy.random.rand(inputs.shape[1], 1)\n",
    "\n",
    "print(pandas.DataFrame(weights, index=inputs.columns, columns=[\"weight\"]))"
   ]
  },
  {
   "cell_type": "markdown",
   "metadata": {},
   "source": [
    "Our bias parameter $b$ and learning rate (hyper)parameter $R$ are both scalar values.\n",
    "\n",
    "We can set the bias to some random value because gradient descent will find its optimal value for us.\n",
    "\n",
    "Learning rate is a constant that we set--it needs to be small enough for the interative method to not go haywire by skipping around too much between successive iterations, but not so small as to take a gazillion iterations to approach the optimal weights."
   ]
  },
  {
   "cell_type": "code",
   "execution_count": 6,
   "metadata": {},
   "outputs": [
    {
     "name": "stdout",
     "output_type": "stream",
     "text": [
      "Setting starting bias to a random value: 0.000114\n",
      "Setting learning rate to 0.05 based on prior experience.\n"
     ]
    }
   ],
   "source": [
    "bias = numpy.random.rand(1)[0]\n",
    "print(\"Setting starting bias to a random value: {:4f}\".format(bias))\n",
    "\n",
    "learning_rate = 0.05\n",
    "print(\"Setting learning rate to {} based on prior experience.\".format(learning_rate))"
   ]
  },
  {
   "cell_type": "markdown",
   "metadata": {},
   "source": [
    "## Applying gradient descent\n",
    "\n",
    "How do we actually _solve_ our gradient descent equation, $ w_{t+1} = w_t - R \\cdot \\frac{d}{dw}E(x, w_t) $?  That is, how do we train our model?\n",
    "\n",
    "- We have weights $w_t$ since we randomly defined them above\n",
    "- We know the form of our model $f(x, w_t)$ since we define it as $ f(x, w) = A \\left ( x \\cdot w + b \\right ) $\n",
    "- We defined our _learning rate_ $R$ arbitrarily as 0.05 above\n",
    "\n",
    "So we just need to figure out what $\\frac{d}{dw}E(x, w_t)$ is--or how our _loss function_ varies as our _weights_ vary for a given set of input values $x$.\n",
    "\n",
    "We can pretty arbitrarily define our _loss function_.  This form seems to capture the right idea:\n",
    "\n",
    "$ E = abs \\left ( f_0 - f \\right ) $\n",
    "\n",
    "As the difference between our predicted $f$ and ground truth outputs $f_0$ get bigger, our error gets bigger.  Easy.\n",
    "\n",
    "Then we break apart $\\frac{\\partial E}{\\partial w}$ using the chain rule:\n",
    "\n",
    "$ \\frac{\\partial E}{\\partial w} =\n",
    "        \\frac{\\partial E}{\\partial f}\n",
    "  \\cdot \\frac{\\partial f}{\\partial y}\n",
    "  \\cdot \\frac{\\partial y}{\\partial w} $\n",
    "\n",
    "The derivations of these three components are pretty straightforward--apply your college calculus to derive them yourself (or just use Wolfram Alpha!).  They come out to be:\n",
    "\n",
    "1. $ \\frac{\\partial E}{\\partial f} = \\frac{abs \\left ( f - f_0 \\right )}{f - f_0} $\n",
    "2. $ \\frac{\\partial f}{\\partial y} = f \\left ( 1 - f \\right ) $\n",
    "3. $ \\frac{\\partial y}{\\partial w} = x_0 $\n",
    "\n",
    "With this, we can just calculate $w_t$ for $t \\rightarrow \\infty$ using the gradient descent formula above to approach the optimal set of weights that minimize our loss function and thereby produce a model that approximates reality.  So as not to spend infinite time calculating for $t \\rightarrow \\infty$, we choose $t \\rightarrow 10000$:"
   ]
  },
  {
   "cell_type": "code",
   "execution_count": 7,
   "metadata": {},
   "outputs": [],
   "source": [
    "NUM_EPOCHS = 10000"
   ]
  },
  {
   "cell_type": "markdown",
   "metadata": {},
   "source": [
    "Then start the gradient descent process to slowly nudge $w$ and $b$ towards optimal values!"
   ]
  },
  {
   "cell_type": "code",
   "execution_count": 8,
   "metadata": {},
   "outputs": [
    {
     "name": "stdout",
     "output_type": "stream",
     "text": [
      "error at step     0:   1.47e+00\n",
      "error at step  1000:   2.33e-01\n",
      "error at step  2000:   1.09e-01\n",
      "error at step  3000:   6.98e-02\n",
      "error at step  4000:   5.10e-02\n",
      "error at step  5000:   4.00e-02\n",
      "error at step  6000:   3.29e-02\n",
      "error at step  7000:   2.79e-02\n",
      "error at step  8000:   2.43e-02\n",
      "error at step  9000:   2.14e-02\n"
     ]
    }
   ],
   "source": [
    "# convert dataframe bits into arrays for processing\n",
    "inputs_array = inputs.to_numpy()\n",
    "truth_array = ground_truth.to_numpy().reshape(-1, 1)\n",
    "\n",
    "x = inputs_array\n",
    "for i in range(NUM_EPOCHS):\n",
    "    y = numpy.dot(x, weights) + bias\n",
    "    f = sigmoid(y)\n",
    "    \n",
    "    error = numpy.abs(f - truth_array)\n",
    "    \n",
    "    # calculate out partial derivatives for each input\n",
    "    dE_df = error/(f - truth_array)\n",
    "    df_dy = d_sigmoid(y)\n",
    "    dE_dy = dE_df * df_dy\n",
    "    dE_dw = numpy.dot(x.T, dE_dy)  # dy_dw = x\n",
    "\n",
    "    # update weights and biases - the error is the sum of error over each input\n",
    "    weights -= learning_rate * dE_dw\n",
    "    bias -= learning_rate * dE_dy.sum()\n",
    "\n",
    "    if i % (NUM_EPOCHS / 10) == 0:\n",
    "        print(\"error at step {:5d}: {:10.2e}\".format(i, error.sum()))"
   ]
  },
  {
   "cell_type": "markdown",
   "metadata": {},
   "source": [
    "We now have an optimal set of weights $w$.  To make predictions using these weights, we just run our inputs through $ f(x, w) = A(y(x)) = A(x \\cdot w + b)$:"
   ]
  },
  {
   "cell_type": "markdown",
   "metadata": {},
   "source": [
    "## Predicting outputs\n",
    "\n",
    "With our set of weights and our $f(x, w)$, we are ready to begin predicting outputs for a set of inputs--inferencing."
   ]
  },
  {
   "cell_type": "code",
   "execution_count": 9,
   "metadata": {},
   "outputs": [
    {
     "name": "stdout",
     "output_type": "stream",
     "text": [
      "               predicted output\n",
      "observation #                  \n",
      "0                      0.010692\n",
      "1                      0.995758\n",
      "2                      0.995757\n",
      "3                      1.000000\n"
     ]
    }
   ],
   "source": [
    "predicted_output = sigmoid(numpy.dot(x, weights) + bias)\n",
    "predicted_output = pandas.DataFrame(\n",
    "    predicted_output,\n",
    "    columns=[\"predicted output\"],\n",
    "    index=inputs.index)\n",
    "\n",
    "print(predicted_output)"
   ]
  },
  {
   "cell_type": "markdown",
   "metadata": {},
   "source": [
    "and we strap this on to our truth table to see how we did compared to the true outputs:"
   ]
  },
  {
   "cell_type": "code",
   "execution_count": 10,
   "metadata": {},
   "outputs": [
    {
     "name": "stdout",
     "output_type": "stream",
     "text": [
      "               input 1  input 2  true output  predicted output\n",
      "observation #                                                 \n",
      "0                    0        0            0          0.010692\n",
      "1                    0        1            1          0.995758\n",
      "2                    1        0            1          0.995757\n",
      "3                    1        1            1          1.000000\n"
     ]
    }
   ],
   "source": [
    "print(pandas.concat((\n",
    "    inputs,\n",
    "    ground_truth,\n",
    "    predicted_output),\n",
    "    axis=1))"
   ]
  },
  {
   "cell_type": "markdown",
   "metadata": {},
   "source": [
    "## Implementing this in Pytorch"
   ]
  },
  {
   "cell_type": "code",
   "execution_count": 11,
   "metadata": {},
   "outputs": [],
   "source": [
    "import torch"
   ]
  },
  {
   "cell_type": "code",
   "execution_count": 12,
   "metadata": {},
   "outputs": [
    {
     "data": {
      "image/png": "[encoded data removed]",
      "text/plain": [
       "<matplotlib.figure.Figure at 0x7f8fc94d30>"
      ]
     },
     "metadata": {
      "needs_background": "light"
     },
     "output_type": "display_data"
    }
   ],
   "source": [
    "x = numpy.arange(-10, 10, 0.1)\n",
    "matplotlib.pyplot.plot(x, torch.nn.Sigmoid()(torch.from_numpy(x)).detach().numpy())\n",
    "matplotlib.pyplot.grid()\n",
    "matplotlib.pyplot.title(\"Sigmoid activation function\")\n",
    "pass"
   ]
  },
  {
   "cell_type": "code",
   "execution_count": 13,
   "metadata": {},
   "outputs": [
    {
     "name": "stdout",
     "output_type": "stream",
     "text": [
      "Starting weights: tensor([0.4170, 0.7203], dtype=torch.float64, requires_grad=True)\n",
      "Starting bias: tensor([0.0001], dtype=torch.float64, requires_grad=True)\n"
     ]
    }
   ],
   "source": [
    "model = torch.nn.Sequential(\n",
    "    torch.nn.Linear(inputs.shape[1], 1),\n",
    "    torch.nn.Sigmoid()\n",
    ")\n",
    "\n",
    "# initialize weight and bias as above\n",
    "numpy.random.seed(seed=1)\n",
    "with torch.no_grad():\n",
    "    # torch.rand() is faster, but we use numpy to re-use the same random starting weights/biases\n",
    "    model[0].weight = torch.nn.Parameter(torch.from_numpy(numpy.random.rand(1, inputs.shape[1])))\n",
    "    print(\"Starting weights: {}\".format(model[0].weight.flatten()))\n",
    "    model[0].bias = torch.nn.Parameter(torch.from_numpy(numpy.random.rand(1, 1)))\n",
    "    print(\"Starting bias: {}\".format(model[0].bias.flatten()))"
   ]
  },
  {
   "cell_type": "code",
   "execution_count": 14,
   "metadata": {},
   "outputs": [
    {
     "name": "stdout",
     "output_type": "stream",
     "text": [
      "error at step     0:   1.47e+00\n",
      "error at step  1000:   2.33e-01\n",
      "error at step  2000:   1.09e-01\n",
      "error at step  3000:   6.98e-02\n",
      "error at step  4000:   5.10e-02\n",
      "error at step  5000:   4.00e-02\n",
      "error at step  6000:   3.29e-02\n",
      "error at step  7000:   2.79e-02\n",
      "error at step  8000:   2.43e-02\n",
      "error at step  9000:   2.14e-02\n"
     ]
    }
   ],
   "source": [
    "# pytorch is more sensitive about types, so we explicitly cast our integer input arrays as float64\n",
    "inputs_tensor = torch.from_numpy(inputs.to_numpy(dtype=numpy.float64))\n",
    "truth_tensor = torch.from_numpy(ground_truth.to_numpy(dtype=numpy.float64).reshape(-1, 1))\n",
    "\n",
    "model.train()\n",
    "x = inputs_tensor\n",
    "for i in range(NUM_EPOCHS):\n",
    "\n",
    "    f = model(x)\n",
    "\n",
    "    loss = torch.nn.L1Loss(reduction='sum')\n",
    "    error = loss(f, truth_tensor)\n",
    "\n",
    "    model.zero_grad()\n",
    "    error.backward() # compute all gradients\n",
    "\n",
    "    with torch.no_grad():\n",
    "        # update weights and biases\n",
    "        for weight in model.parameters():\n",
    "            weight -= learning_rate * weight.grad\n",
    "    if i % (NUM_EPOCHS / 10) == 0:\n",
    "        print(\"error at step {:5d}: {:10.2e}\".format(i, error.sum()))"
   ]
  },
  {
   "cell_type": "code",
   "execution_count": 15,
   "metadata": {},
   "outputs": [
    {
     "data": {
      "text/plain": [
       "Sequential(\n",
       "  (0): Linear(in_features=2, out_features=1, bias=True)\n",
       "  (1): Sigmoid()\n",
       ")"
      ]
     },
     "execution_count": 15,
     "metadata": {},
     "output_type": "execute_result"
    }
   ],
   "source": [
    "model.eval()"
   ]
  },
  {
   "cell_type": "code",
   "execution_count": 16,
   "metadata": {},
   "outputs": [
    {
     "name": "stdout",
     "output_type": "stream",
     "text": [
      "               predicted output\n",
      "observation #                  \n",
      "0                      0.010692\n",
      "1                      0.995758\n",
      "2                      0.995757\n",
      "3                      1.000000\n"
     ]
    }
   ],
   "source": [
    "predicted_output = model(inputs_tensor).detach().numpy()\n",
    "predicted_output = pandas.DataFrame(\n",
    "    predicted_output,\n",
    "    columns=[\"predicted output\"],\n",
    "    index=inputs.index)\n",
    "\n",
    "print(predicted_output)"
   ]
  },
  {
   "cell_type": "code",
   "execution_count": 17,
   "metadata": {},
   "outputs": [
    {
     "name": "stdout",
     "output_type": "stream",
     "text": [
      "               input 1  input 2  true output  predicted output\n",
      "observation #                                                 \n",
      "0                    0        0            0          0.010692\n",
      "1                    0        1            1          0.995758\n",
      "2                    1        0            1          0.995757\n",
      "3                    1        1            1          1.000000\n"
     ]
    }
   ],
   "source": [
    "print(pandas.concat((\n",
    "    inputs,\n",
    "    ground_truth,\n",
    "    predicted_output),\n",
    "    axis=1))"
   ]
  },
  {
   "cell_type": "code",
   "execution_count": null,
   "metadata": {},
   "outputs": [],
   "source": []
  }
 ],
 "metadata": {
  "kernelspec": {
   "display_name": "Python 3",
   "language": "python",
   "name": "python3"
  },
  "language_info": {
   "codemirror_mode": {
    "name": "ipython",
    "version": 3
   },
   "file_extension": ".py",
   "mimetype": "text/x-python",
   "name": "python",
   "nbconvert_exporter": "python",
   "pygments_lexer": "ipython3",
   "version": "3.6.9"
  }
 },
 "nbformat": 4,
 "nbformat_minor": 4
}
